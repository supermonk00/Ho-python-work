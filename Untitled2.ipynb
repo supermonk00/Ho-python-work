{
 "cells": [
  {
   "cell_type": "code",
   "execution_count": null,
   "metadata": {},
   "outputs": [],
   "source": [
    "a=1\n",
    "b=2\n",
    "if a < b:\n",
    "    print(\"a is less than b\")\n",
    "    print(b)"
   ]
  },
  {
   "cell_type": "code",
   "execution_count": null,
   "metadata": {},
   "outputs": [],
   "source": [
    "c=3\n",
    "d=4\n",
    "if c <  d:\n",
    "    print(\"c is less than b\")\n",
    "else:\n",
    "    print(\"c is not less than b\")"
   ]
  },
  {
   "cell_type": "code",
   "execution_count": null,
   "metadata": {},
   "outputs": [],
   "source": [
    "e=5\n",
    "f=1\n",
    "if e<f:\n",
    "    print('e is less than f')\n",
    "elif e==f:\n",
    "    print('e is equal than f')\n",
    "elif e<f+10:\n",
    "    print('e is less than f+10')\n",
    "else:\n",
    "    print('e is greater than f')"
   ]
  },
  {
   "cell_type": "code",
   "execution_count": null,
   "metadata": {},
   "outputs": [],
   "source": [
    "name = \"ho\"\n",
    "height_m = 1.7\n",
    "weight_kg= 80\n",
    "bmi = (weight_kg/(height_m**2))\n",
    "print('bmi:')\n",
    "print(bmi)\n",
    "\n",
    "if bmi>25:\n",
    "    print(name)\n",
    "    print('is over weight')\n",
    "elif 18<bmi<25:\n",
    "    print(name)\n",
    "    print('is fit')\n",
    "else:\n",
    "    print(name)\n",
    "    print('is too thin')"
   ]
  },
  {
   "cell_type": "code",
   "execution_count": null,
   "metadata": {},
   "outputs": [],
   "source": []
  },
  {
   "cell_type": "code",
   "execution_count": null,
   "metadata": {},
   "outputs": [],
   "source": []
  }
 ],
 "metadata": {
  "kernelspec": {
   "display_name": "Python 3",
   "language": "python",
   "name": "python3"
  },
  "language_info": {
   "codemirror_mode": {
    "name": "ipython",
    "version": 3
   },
   "file_extension": ".py",
   "mimetype": "text/x-python",
   "name": "python",
   "nbconvert_exporter": "python",
   "pygments_lexer": "ipython3",
   "version": "3.7.1"
  }
 },
 "nbformat": 4,
 "nbformat_minor": 2
}
